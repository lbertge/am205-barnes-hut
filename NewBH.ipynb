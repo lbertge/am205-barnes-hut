{
 "cells": [
  {
   "cell_type": "code",
   "execution_count": 256,
   "id": "b545e625",
   "metadata": {},
   "outputs": [],
   "source": [
    "import numpy as np\n",
    "import math\n",
    "import matplotlib.pyplot as plt\n",
    "\n",
    "import sys\n",
    "sys.setrecursionlimit(2000)"
   ]
  },
  {
   "cell_type": "code",
   "execution_count": 267,
   "id": "3980aee4",
   "metadata": {},
   "outputs": [],
   "source": [
    "G = 0.1\n",
    "theta = 0.5\n",
    "dt = 0.005\n",
    "num_bodies = 10\n",
    "epsilon = 0.1\n",
    "\n",
    "def distance(bod1, bod2):\n",
    "    x1, y1 = bod1.px, bod1.py\n",
    "    x2, y2 = bod2.px, bod2.py\n",
    "    return ((x1-x2)**2 + (y1-y2)**2)**0.5\n",
    "\n",
    "def force(bod1, bod2):\n",
    "    x1, y1, m1 = bod1.px, bod1.py, bod1.mass\n",
    "    x2, y2, m2 = bod2.px, bod2.py, bod2.mass\n",
    "    return G*m1*m2/(distance(bod1,bod2)**2 + epsilon)\n",
    "\n",
    "def x_component(bod1, bod2):\n",
    "    return (bod1.px-bod2.px)/(distance(bod1, bod2) + epsilon)\n",
    "\n",
    "def y_component(bod1, bod2):\n",
    "    return (bod1.py-bod2.py)/(distance(bod1, bod2) + epsilon)"
   ]
  },
  {
   "cell_type": "code",
   "execution_count": 268,
   "id": "51225810",
   "metadata": {},
   "outputs": [],
   "source": [
    "class Body:\n",
    "    def __init__(self, mass, px, py, vx, vy):\n",
    "        self.mass = mass\n",
    "        self.px = px\n",
    "        self.py = py\n",
    "        self.vx = vx\n",
    "        self.vy = vy\n",
    "        self.fx = 0\n",
    "        self.fy = 0\n",
    "    \n",
    "    def zero_forces(self, by_root = False):\n",
    "        if by_root:\n",
    "            self.fx = 0\n",
    "            self.fy = 0\n",
    "\n",
    "class Node:\n",
    "    def __init__(self, xleft, xright, ybot, ytop):\n",
    "        # Initialize an empty node, meaning a region in space but no bodies in it and no children\n",
    "        \n",
    "        # Define the children and domain\n",
    "        self.topleft, self.topright, self.botleft, self.botright = None, None, None, None\n",
    "        self.xleft, self.xright, self.ybot, self.ytop = xleft, xright, ybot, ytop\n",
    "        self.centerx = (xleft+xright)/2\n",
    "        self.centery = (ybot+ytop)/2\n",
    "        \n",
    "        # Define the Center of Mass and total Mass\n",
    "        self.CoMx, self.CoMy, self.totM = None, None, 0\n",
    "        \n",
    "        # Define\n",
    "        self.body = None\n",
    "        \n",
    "    def which_child(self, x, y):\n",
    "        assert x< self.xright and x > self.xleft and y < self.ytop and y > self.ybot, \"Must be in Rect\"\n",
    "        if x >= self.centerx and y >= self.centery:\n",
    "            return self.topright\n",
    "        elif x >= self.centerx and y < self.centery:\n",
    "            return self.botright\n",
    "        elif x < self.centerx and y >= self.centery:\n",
    "            return self.topleft\n",
    "        elif x < self.centerx and y < self.centery:\n",
    "            return self.botleft\n",
    "        else:\n",
    "            return None\n",
    "\n",
    "        \n",
    "    def add_body(self, new_body):\n",
    "        # if this node contains no bodies (is a leaf with no bodies)\n",
    "        if self.body == None and self.topleft == None and self.topright == None and self.botleft == None and self.botright == None:\n",
    "            self.body = new_body\n",
    "            self.CoMx = new_body.px\n",
    "            self.CoMy = new_body.py\n",
    "            self.totM += new_body.mass\n",
    "\n",
    "            \n",
    "        # if this node is internal (non leaf)\n",
    "        elif self.body == None:\n",
    "            self.CoMx = (self.totM*self.CoMx + new_body.mass*new_body.px)/(self.totM + new_body.mass)\n",
    "            self.CoMy = (self.totM*self.CoMy + new_body.mass*new_body.py)/(self.totM + new_body.mass)\n",
    "            self.totM += new_body.mass\n",
    "            \n",
    "            childNode = self.which_child(new_body.px, new_body.py)\n",
    "            childNode.add_body(new_body)\n",
    "\n",
    "            \n",
    "        # if this node is external (leaf that is 1 body)\n",
    "        else:\n",
    "            self.topleft = Node(self.xleft, self.centerx, self.centery, self.ytop)\n",
    "            self.topright = Node(self.centerx, self.xright, self.centery, self.ytop)\n",
    "            self.botleft = Node(self.xleft, self.centerx, self.ybot, self.centery)\n",
    "            self.botright = Node(self.centerx, self.xright, self.ybot, self.centery)\n",
    "            \n",
    "            childNode = self.which_child(self.body.px, self.body.py)\n",
    "            childNode.add_body(self.body)\n",
    "            \n",
    "            childNode = self.which_child(new_body.px, new_body.py)\n",
    "            childNode.add_body(new_body)\n",
    "            \n",
    "            self.CoMx = (self.totM*self.CoMx + new_body.mass*new_body.px)/(self.totM + new_body.mass)\n",
    "            self.CoMy = (self.totM*self.CoMy + new_body.mass*new_body.py)/(self.totM + new_body.mass)\n",
    "            self.totM += new_body.mass\n",
    "            self.body = None\n",
    "\n",
    "            \n",
    "    def calculate_force(self, body, by_root = False):\n",
    "        body.zero_forces(by_root)\n",
    "        \n",
    "        # if this node is itself:\n",
    "        if self.body == body:\n",
    "            return\n",
    "        \n",
    "        # if this node is an empty node\n",
    "        if self.body == None and self.topleft == None and self.topright == None and self.botleft == None and self.botright == None:\n",
    "            return\n",
    "        \n",
    "        # if this node is a body (external node):\n",
    "        elif self.body != None:\n",
    "            f = force(body, self.body)\n",
    "            body.fx += f*x_component(body, self.body)\n",
    "            body.fy += f*y_component(body, self.body)\n",
    "        \n",
    "        # if this node is an internal node\n",
    "        else:\n",
    "            s = self.xleft-self.xright\n",
    "            d = ((self.CoMx - body.px)**2+(self.CoMy - body.py)**2)**0.5 + epsilon\n",
    "            \n",
    "            # if aggregate condition is met, aggregate\n",
    "            if s/d < theta:\n",
    "                f = G*self.totM*body.mass/d**2\n",
    "                body.fx += f*(self.CoMx - body.px)/d\n",
    "                body.fy += f*(self.CoMy - body.py)/d\n",
    "                \n",
    "            # if aggregate condition not met, recurse\n",
    "            else:\n",
    "                self.topleft.calculate_force(body)\n",
    "                self.topright.calculate_force(body)\n",
    "                self.botleft.calculate_force(body)\n",
    "                self.botright.calculate_force(body)\n",
    "                    \n",
    "                \n",
    "            \n",
    "        \n",
    "        "
   ]
  },
  {
   "cell_type": "code",
   "execution_count": 269,
   "id": "208d9a18",
   "metadata": {},
   "outputs": [],
   "source": [
    "def step(bodies):\n",
    "    for body in bodies:\n",
    "        body.px += body.vx*dt\n",
    "        body.py += body.vy*dt\n",
    "        body.vx += body.fx/body.mass*dt\n",
    "        body.vy += body.fy/body.mass*dt"
   ]
  },
  {
   "cell_type": "code",
   "execution_count": 270,
   "id": "0a3be3a9",
   "metadata": {},
   "outputs": [],
   "source": [
    "def main():\n",
    "    num_iters = 1000\n",
    "    pos_hist = []\n",
    "    \n",
    "    bodies = []\n",
    "    for i in range(num_bodies):\n",
    "        j = np.random.rand(5)\n",
    "        bodies.append(Body(j[0],j[1],j[2],j[3]/1,j[4]/1))\n",
    "\n",
    "    root = Node(-10,10,-10,10)\n",
    "    this_pos = []\n",
    "    for body in bodies:\n",
    "        this_pos.append([body.px, body.py])\n",
    "        root.add_body(body)\n",
    "    pos_hist.append(this_pos)\n",
    "    \n",
    "    for i in range(num_iters):\n",
    "        \n",
    "        for body in bodies:\n",
    "            root.calculate_force(body, True)\n",
    "        step(bodies)\n",
    "        \n",
    "        this_pos = []\n",
    "        for body in bodies:\n",
    "            this_pos.append([body.px, body.py])\n",
    "        pos_hist.append(this_pos)\n",
    "        \n",
    "        try:\n",
    "            root = Node(-10,10,-10,10)\n",
    "            for body in bodies:\n",
    "                root.add_body(body)\n",
    "        except:\n",
    "            return np.array(pos_hist)\n",
    "    \n",
    "    return np.array(pos_hist)\n",
    "\n",
    "def plot_trajectories(pos_hist):\n",
    "    for i in range(num_bodies):\n",
    "        plt.scatter(pos_hist[:,i,0], pos_hist[:,i,1], s = 0.1)\n",
    "    \n",
    "    plt.show\n",
    "    plt.xlim((-3,5))\n",
    "    plt.ylim((-3,5))\n",
    "        \n",
    "        "
   ]
  },
  {
   "cell_type": "code",
   "execution_count": 273,
   "id": "d8b67e3c",
   "metadata": {},
   "outputs": [
    {
     "data": {
      "image/png": "[encoded data removed]",
      "text/plain": [
       "<Figure size 432x288 with 1 Axes>"
      ]
     },
     "metadata": {
      "needs_background": "light"
     },
     "output_type": "display_data"
    }
   ],
   "source": [
    "trajectory = main()\n",
    "plot_trajectories(trajectory)"
   ]
  },
  {
   "cell_type": "code",
   "execution_count": 216,
   "id": "c060aa45",
   "metadata": {},
   "outputs": [
    {
     "data": {
      "image/png": "[encoded data removed]",
      "text/plain": [
       "<Figure size 432x288 with 1 Axes>"
      ]
     },
     "metadata": {
      "needs_background": "light"
     },
     "output_type": "display_data"
    }
   ],
   "source": [
    "plot_trajectories(trajectory)"
   ]
  },
  {
   "cell_type": "markdown",
   "id": "d505c109",
   "metadata": {},
   "source": [
    "# Below is Testing"
   ]
  },
  {
   "cell_type": "code",
   "execution_count": 51,
   "id": "db47db2b",
   "metadata": {},
   "outputs": [],
   "source": [
    "# Testing 1 Body\n",
    "bodies = []\n",
    "for i in range(3):\n",
    "    j = np.random.rand(5)\n",
    "    bodies.append(Body(j[0],j[1],j[2],j[3],j[4]))\n",
    "\n",
    "root = Node(0,1,0,1)\n",
    "for body in bodies:\n",
    "    root.add_body(body)\n",
    "\n"
   ]
  },
  {
   "cell_type": "code",
   "execution_count": 65,
   "id": "145ef0fe",
   "metadata": {},
   "outputs": [
    {
     "data": {
      "text/plain": [
       "<matplotlib.legend.Legend at 0x7f933ae49760>"
      ]
     },
     "execution_count": 65,
     "metadata": {},
     "output_type": "execute_result"
    },
    {
     "data": {
      "image/png": "[encoded data removed]",
      "text/plain": [
       "<Figure size 432x432 with 1 Axes>"
      ]
     },
     "metadata": {
      "needs_background": "light"
     },
     "output_type": "display_data"
    }
   ],
   "source": [
    "plt.figure(figsize = (6,6))\n",
    "plt.xlim((0,1))\n",
    "plt.ylim((0,1))\n",
    "for i,body in enumerate(bodies):\n",
    "    plt.scatter(body.px, body.py,label = i, s = 1000*body.mass)\n",
    "plt.legend()"
   ]
  },
  {
   "cell_type": "code",
   "execution_count": 35,
   "id": "36a16dd9",
   "metadata": {},
   "outputs": [
    {
     "name": "stdout",
     "output_type": "stream",
     "text": [
      "1.0674262792162317\n"
     ]
    },
    {
     "data": {
      "text/plain": [
       "1.0674262792162317"
      ]
     },
     "execution_count": 35,
     "metadata": {},
     "output_type": "execute_result"
    }
   ],
   "source": [
    "lesum = 0\n",
    "totmass = 0\n",
    "for body in bodies:\n",
    "    lesum += body.mass*body.py\n",
    "    totmass += body.mass\n",
    "lesum /= totmass\n",
    "print(totmass)\n",
    "root.totM"
   ]
  },
  {
   "cell_type": "code",
   "execution_count": 67,
   "id": "53debcb9",
   "metadata": {},
   "outputs": [],
   "source": [
    "root.calculate_force(root.botright.body)"
   ]
  },
  {
   "cell_type": "code",
   "execution_count": 70,
   "id": "95c23e14",
   "metadata": {},
   "outputs": [
    {
     "name": "stdout",
     "output_type": "stream",
     "text": [
      "0.14352285589777447\n",
      "0.8066593624737919\n"
     ]
    }
   ],
   "source": [
    "print(root.botright.body.vx)\n",
    "print(root.botright.body.fy)"
   ]
  },
  {
   "cell_type": "code",
   "execution_count": null,
   "id": "a9f4c9fb",
   "metadata": {},
   "outputs": [],
   "source": [
    "self.topleft, self.topright, self.botleft, self.botright = None, None, None, None\n",
    "        \n",
    "        # Define the Center of Mass and total Mass\n",
    "        "
   ]
  },
  {
   "cell_type": "code",
   "execution_count": null,
   "id": "6aa9f322",
   "metadata": {},
   "outputs": [],
   "source": [
    "        self.topleft, self.topright, self.botleft, self.botright = None, None, None, None\n",
    "        self.xleft, self.xright, self.ybot, self.ytop = xleft, xright, ybot, ytop\n",
    "        self.centerx = (xleft+xright)/2\n",
    "        self.centery = (ybot+ytop)/2\n",
    "        \n",
    "        # Define the Center of Mass and total Mass\n",
    "        self.CoMx, self.CoMy, self.totM = None, None, 0\n",
    "        \n",
    "        # Define\n",
    "        self.body = None\n",
    "        "
   ]
  }
 ],
 "metadata": {
  "kernelspec": {
   "display_name": "AM205",
   "language": "python",
   "name": "am205"
  },
  "language_info": {
   "codemirror_mode": {
    "name": "ipython",
    "version": 3
   },
   "file_extension": ".py",
   "mimetype": "text/x-python",
   "name": "python",
   "nbconvert_exporter": "python",
   "pygments_lexer": "ipython3",
   "version": "3.9.7"
  }
 },
 "nbformat": 4,
 "nbformat_minor": 5
}
